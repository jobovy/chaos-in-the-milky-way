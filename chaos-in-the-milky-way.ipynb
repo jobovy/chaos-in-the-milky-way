{
 "cells": [
  {
   "cell_type": "code",
   "execution_count": 1,
   "metadata": {},
   "outputs": [
    {
     "name": "stdout",
     "output_type": "stream",
     "text": [
      "Populating the interactive namespace from numpy and matplotlib\n"
     ]
    }
   ],
   "source": [
    "import numpy\n",
    "from galpy import potential\n",
    "from galpy.orbit import Orbit\n",
    "from astropy import units as u\n",
    "%pylab inline\n",
    "from galpy.util import plot as galpy_plot\n",
    "galpy_plot.start_print(axes_labelsize=17.,text_fontsize=12.,\n",
    "                       xtick_labelsize=15.,ytick_labelsize=15.)"
   ]
  },
  {
   "cell_type": "markdown",
   "metadata": {},
   "source": [
    "# Chaos in the Milky Way\n",
    "\n",
    "In the lectures, we discussed the Henon & Heiles (1964) potential and how it exhibits chaotic regions. Let’s see whether more realistic galactic potentials have chaotic regions!"
   ]
  },
  {
   "cell_type": "markdown",
   "metadata": {},
   "source": [
    "## Preliminaries"
   ]
  },
  {
   "cell_type": "markdown",
   "metadata": {},
   "source": [
    "The following is a model for the Milky Way's gravitational potential from [Helmi (2004)](https://ui.adsabs.harvard.edu/abs/2004MNRAS.351..643H/abstract). We'll investigate whether it has chaos!"
   ]
  },
  {
   "cell_type": "code",
   "execution_count": 2,
   "metadata": {},
   "outputs": [],
   "source": [
    "pot= [potential.HernquistPotential(amp=2.*3.4*10.**10.*u.Msun,a=0.7*u.kpc),\n",
    "      potential.MiyamotoNagaiPotential(amp=10.**11.*u.Msun,a=6.5*u.kpc,b=0.26*u.kpc),\n",
    "      potential.LogarithmicHaloPotential(amp=(131.**2.*2.)*u.km**2./u.s**2.,core=12.*u.kpc,q=1.)]"
   ]
  },
  {
   "cell_type": "markdown",
   "metadata": {},
   "source": [
    "We can look at the rotation curve:"
   ]
  },
  {
   "cell_type": "code",
   "execution_count": 3,
   "metadata": {},
   "outputs": [
    {
     "data": {
      "image/png": "[encoded data removed]",
      "text/plain": [
       "<Figure size 360x360 with 1 Axes>"
      ]
     },
     "metadata": {
      "needs_background": "light"
     },
     "output_type": "display_data"
    }
   ],
   "source": [
    "potential.plotRotcurve(pot);"
   ]
  },
  {
   "cell_type": "markdown",
   "metadata": {},
   "source": [
    "That looks like a decent representation of the Milky Way's rotation curve.\n",
    "\n",
    "The functions below work best when we work in ``galpy``'s internal units, so we turn physical outputs off:"
   ]
  },
  {
   "cell_type": "code",
   "execution_count": 4,
   "metadata": {},
   "outputs": [],
   "source": [
    "potential.turn_physical_off(pot)"
   ]
  },
  {
   "cell_type": "markdown",
   "metadata": {},
   "source": [
    "Next we define some functions that make investigating surfaces of section easier. First a function that gives the energy of a circular orbit at a given radius:"
   ]
  },
  {
   "cell_type": "code",
   "execution_count": 5,
   "metadata": {},
   "outputs": [],
   "source": [
    "def ERc(Rc,pot):\n",
    "    \"\"\"Returns the energy of a circular orbit at Rc\"\"\"\n",
    "    return 0.5*potential.vcirc(pot,Rc)**2.+potential.evaluatePotentials(pot,Rc,0.)"
   ]
  },
  {
   "cell_type": "markdown",
   "metadata": {},
   "source": [
    "Then a function that returns the angular momentum of that circular orbit, which is $R_c \\times v_c(R_c)$:"
   ]
  },
  {
   "cell_type": "code",
   "execution_count": 6,
   "metadata": {},
   "outputs": [],
   "source": [
    "def Lc(Rc,pot):\n",
    "    \"\"\"Returns the angular momentum of a circular orbit at Rc\"\"\"\n",
    "    return Rc*potential.vcirc(pot,Rc)"
   ]
  },
  {
   "cell_type": "markdown",
   "metadata": {},
   "source": [
    "Then we use the same function that we used in the notes to initialize an orbit with a given energy $E$, $z$-component of the angular momentum $L_z$, and initial value of the radial velocity $v_R$:"
   ]
  },
  {
   "cell_type": "code",
   "execution_count": 7,
   "metadata": {},
   "outputs": [],
   "source": [
    "def orbit_RvRELz(R,vR,E,Lz,pot=None):\n",
    "    \"\"\"Returns Orbit at (R,vR,phi=0,z=0) with given (E,Lz)\"\"\"\n",
    "    return Orbit([R,vR,Lz/R,0.,\n",
    "                  numpy.sqrt(2.*(E-potential.evaluatePotentials(pot,R,0.)\n",
    "                                 -(Lz/R)**2./2.-vR**2./2)),0.],ro=8.,vo=220.)"
   ]
  },
  {
   "cell_type": "markdown",
   "metadata": {},
   "source": [
    "To be able to scan through different values of $v_R$ at a given $(E,L_z)$, we also define a function that gives the maximum value of $v_R$ at a given $(E,L_z)$ (then we can just explore values from $v_R = 0$ to $v_{R,\\mathrm{max}})$):"
   ]
  },
  {
   "cell_type": "code",
   "execution_count": 8,
   "metadata": {},
   "outputs": [],
   "source": [
    "def maxvR_RELz(R,E,Lz,pot=None):\n",
    "    \"\"\"Returns maximum v_R for orbit at (R,phi=0,z=0) with given (E,Lz)\"\"\"\n",
    "    return numpy.sqrt(2.*(E-potential.evaluatePotentials(pot,R,0.))-(Lz/R)**2.)"
   ]
  },
  {
   "cell_type": "markdown",
   "metadata": {},
   "source": [
    "We also need the function of the notes that computes the $z=0$ surface of section given an orbit integration:"
   ]
  },
  {
   "cell_type": "code",
   "execution_count": 9,
   "metadata": {},
   "outputs": [],
   "source": [
    "def surface_section(Rs,zs,vRs):\n",
    "    # Find points where the orbit crosses z from - to +\n",
    "    shiftzs= numpy.roll(zs,-1)\n",
    "    indx= (zs[:-1] < 0.)*(shiftzs[:-1] > 0.)\n",
    "    return (Rs[:-1][indx],vRs[:-1][indx])"
   ]
  },
  {
   "cell_type": "markdown",
   "metadata": {},
   "source": [
    "Now we're ready to start exploring!"
   ]
  },
  {
   "cell_type": "markdown",
   "metadata": {},
   "source": [
    "## Chaos at $R_c = 30$ kpc?"
   ]
  },
  {
   "cell_type": "markdown",
   "metadata": {},
   "source": [
    "Let's start by seeing whether we can find any chaos for orbits similar to the circular orbit at 30 kpc from the center. We use an energy $E$ that is equal to that of the circular orbit at 30 kpc and an angular momentum that is 15% of the angular momentum of the circular orbit:"
   ]
  },
  {
   "cell_type": "code",
   "execution_count": 10,
   "metadata": {},
   "outputs": [],
   "source": [
    "Rc= 30./8 # division by 8 kpc to go to internal units\n",
    "thisE= ERc(Rc,pot)\n",
    "thisL= 0.15*Lc(Rc,pot)"
   ]
  },
  {
   "cell_type": "markdown",
   "metadata": {},
   "source": [
    "**Now explore the surface of section for different values of $v_R$**: Look at the surface of section for some values of $v_R$, can you find chaos? (note that we have to integrate for a long time to get a nice surface of section, so these orbits will take about 10 seconds to compute). If you find any interesting surfaces of section, make a note of the $v_R$ so you can show them to your classmates later!"
   ]
  },
  {
   "cell_type": "code",
   "execution_count": 11,
   "metadata": {},
   "outputs": [
    {
     "data": {
      "image/png": "[encoded data removed]",
      "text/plain": [
       "<Figure size 360x360 with 1 Axes>"
      ]
     },
     "metadata": {
      "needs_background": "light"
     },
     "output_type": "display_data"
    }
   ],
   "source": [
    "vR= 0.5*maxvR_RELz(Rc,thisE,thisL,pot=pot)\n",
    "\n",
    "ts= numpy.linspace(0.,10000.,1000001)\n",
    "o= orbit_RvRELz(Rc,vR,thisE,thisL,pot=pot)\n",
    "o.integrate(ts,pot)\n",
    "sect1Rs,sect1vRs=surface_section(o.R(ts),o.z(ts),o.vR(ts))\n",
    "plot(sect1Rs,sect1vRs,'.',mec='none')\n",
    "xlabel(r'$R\\,(\\mathrm{kpc})$')\n",
    "ylabel(r'$v_R\\,(\\mathrm{km\\,s}^{-1})$');"
   ]
  },
  {
   "cell_type": "markdown",
   "metadata": {},
   "source": [
    "## Chaos at $R_c = 9$ kpc?"
   ]
  },
  {
   "cell_type": "markdown",
   "metadata": {},
   "source": [
    "Now let's see whether we can find any chaos for orbits similar to the circular orbit at 9 kpc from the center. We use an energy $E$ that is equal to that of the circular orbit at 9 kpc and again an angular momentum that is 15% of the angular momentum of the circular orbit:"
   ]
  },
  {
   "cell_type": "code",
   "execution_count": 12,
   "metadata": {},
   "outputs": [],
   "source": [
    "Rc= 9./8 # division by 8 kpc to go to internal units\n",
    "thisE= ERc(Rc,pot)\n",
    "thisL= 0.15*Lc(Rc,pot)"
   ]
  },
  {
   "cell_type": "markdown",
   "metadata": {},
   "source": [
    "**Now explore the surface of section for different values of $v_R$**: Look at the surface of section for some values of $v_R$, can you find chaos? (note that we have to integrate for a long time to get a nice surface of section, so these orbits will take about 10 seconds to compute). If you find any interesting surfaces of section, make a note of the $v_R$ so you can show them to your classmates later!"
   ]
  },
  {
   "cell_type": "code",
   "execution_count": 13,
   "metadata": {},
   "outputs": [
    {
     "data": {
      "image/png": "[encoded data removed]",
      "text/plain": [
       "<Figure size 360x360 with 1 Axes>"
      ]
     },
     "metadata": {
      "needs_background": "light"
     },
     "output_type": "display_data"
    }
   ],
   "source": [
    "vR= 0.5*maxvR_RELz(Rc,thisE,thisL,pot=pot)\n",
    "\n",
    "ts= numpy.linspace(0.,10000.,1000001)\n",
    "o= orbit_RvRELz(Rc,vR,thisE,thisL,pot=pot)\n",
    "o.integrate(ts,pot)\n",
    "sect1Rs,sect1vRs=surface_section(o.R(ts),o.z(ts),o.vR(ts))\n",
    "plot(sect1Rs,sect1vRs,'.',mec='none')\n",
    "xlabel(r'$R\\,(\\mathrm{kpc})$')\n",
    "ylabel(r'$v_R\\,(\\mathrm{km\\,s}^{-1})$');"
   ]
  },
  {
   "cell_type": "markdown",
   "metadata": {},
   "source": [
    "## Chaos at $R_c = 30$ kpc for a prolate halo?"
   ]
  },
  {
   "cell_type": "markdown",
   "metadata": {},
   "source": [
    "The halo in the model that we have looked at so far is spherical. A non-spherical halo may have more chaotic orbits, as orbits are less constrained by symmetry. Let's re-do our initial analysis of chaos at 30 kpc but using a prolate halo instead. To construct such a halo, we use the same Milky-Way model as before, but use a flattening parameter of $q=1.25$ in the definition of the halo:"
   ]
  },
  {
   "cell_type": "code",
   "execution_count": 14,
   "metadata": {},
   "outputs": [],
   "source": [
    "pot= [potential.HernquistPotential(amp=2.*3.4*10.**10.*u.Msun,a=0.7*u.kpc),\n",
    "      potential.MiyamotoNagaiPotential(amp=10.**11.*u.Msun,a=6.5*u.kpc,b=0.26*u.kpc),\n",
    "      potential.LogarithmicHaloPotential(amp=(131.**2.*2.)*u.km**2./u.s**2.,core=12.*u.kpc,q=1.25)]"
   ]
  },
  {
   "cell_type": "markdown",
   "metadata": {},
   "source": [
    "The rotation curve is pretty similar to what it was before:"
   ]
  },
  {
   "cell_type": "code",
   "execution_count": 15,
   "metadata": {},
   "outputs": [
    {
     "data": {
      "image/png": "[encoded data removed]",
      "text/plain": [
       "<Figure size 360x360 with 1 Axes>"
      ]
     },
     "metadata": {
      "needs_background": "light"
     },
     "output_type": "display_data"
    }
   ],
   "source": [
    "potential.plotRotcurve(pot);\n",
    "potential.turn_physical_off(pot)"
   ]
  },
  {
   "cell_type": "markdown",
   "metadata": {},
   "source": [
    "Let's now again investigate whether we can find any chaos for orbits similar to the circular orbit at 30 kpc from the center. We use an energy $E$ that is equal to that of the circular orbit at 30 kpc and again an angular momentum that is 15% of the angular momentum of the circular orbit:"
   ]
  },
  {
   "cell_type": "code",
   "execution_count": 16,
   "metadata": {},
   "outputs": [],
   "source": [
    "Rc= 30./8 # division by 8 kpc to go to internal units\n",
    "thisE= ERc(Rc,pot)\n",
    "thisL= 0.15*Lc(Rc,pot)"
   ]
  },
  {
   "cell_type": "markdown",
   "metadata": {},
   "source": [
    "**Now explore the surface of section for different values of $v_R$**: Look at the surface of section for some values of $v_R$, can you find chaos? (note that we have to integrate for a long time to get a nice surface of section, so these orbits will take about 10 seconds to compute). If you find any interesting surfaces of section, make a note of the $v_R$ so you can show them to your classmates later!"
   ]
  },
  {
   "cell_type": "code",
   "execution_count": 17,
   "metadata": {},
   "outputs": [
    {
     "data": {
      "image/png": "[encoded data removed]",
      "text/plain": [
       "<Figure size 360x360 with 1 Axes>"
      ]
     },
     "metadata": {
      "needs_background": "light"
     },
     "output_type": "display_data"
    }
   ],
   "source": [
    "vR= 0.5*maxvR_RELz(Rc,thisE,thisL,pot=pot)\n",
    "\n",
    "ts= numpy.linspace(0.,10000.,1000001)\n",
    "o= orbit_RvRELz(Rc,vR,thisE,thisL,pot=pot)\n",
    "o.integrate(ts,pot)\n",
    "sect1Rs,sect1vRs=surface_section(o.R(ts),o.z(ts),o.vR(ts))\n",
    "plot(sect1Rs,sect1vRs,'.',mec='none')\n",
    "xlabel(r'$R\\,(\\mathrm{kpc})$')\n",
    "ylabel(r'$v_R\\,(\\mathrm{km\\,s}^{-1})$');"
   ]
  },
  {
   "cell_type": "markdown",
   "metadata": {},
   "source": [
    "You may have to start the orbit at a different $R$ to fully explore the surface of section (the first argument of ``orbit_RvRELz``)."
   ]
  }
 ],
 "metadata": {
  "kernelspec": {
   "display_name": "Python 3",
   "language": "python",
   "name": "python3"
  },
  "language_info": {
   "codemirror_mode": {
    "name": "ipython",
    "version": 3
   },
   "file_extension": ".py",
   "mimetype": "text/x-python",
   "name": "python",
   "nbconvert_exporter": "python",
   "pygments_lexer": "ipython3",
   "version": "3.7.3"
  },
  "toc": {
   "base_numbering": 1,
   "nav_menu": {},
   "number_sections": true,
   "sideBar": true,
   "skip_h1_title": false,
   "title_cell": "Table of Contents",
   "title_sidebar": "Contents",
   "toc_cell": false,
   "toc_position": {},
   "toc_section_display": true,
   "toc_window_display": false
  }
 },
 "nbformat": 4,
 "nbformat_minor": 4
}
